{
 "cells": [
  {
   "cell_type": "code",
   "execution_count": 1,
   "id": "fd1cf8a0-40e8-4955-852e-0f083b0c60fe",
   "metadata": {
    "execution": {
     "iopub.execute_input": "2025-07-01T13:31:08.596379Z",
     "iopub.status.busy": "2025-07-01T13:31:08.596135Z",
     "iopub.status.idle": "2025-07-01T13:31:10.150612Z",
     "shell.execute_reply": "2025-07-01T13:31:10.150120Z"
    }
   },
   "outputs": [
    {
     "name": "stderr",
     "output_type": "stream",
     "text": [
      "2025-07-01 16:31:08,973 - INFO - Загружено 2811 мероприятий и 246 кодов\n"
     ]
    },
    {
     "name": "stderr",
     "output_type": "stream",
     "text": [
      "2025-07-01 16:31:10,094 - INFO - Статистика обработки:\n"
     ]
    },
    {
     "name": "stderr",
     "output_type": "stream",
     "text": [
      "2025-07-01 16:31:10,094 - INFO -   - Сопоставлено: 92\n"
     ]
    },
    {
     "name": "stderr",
     "output_type": "stream",
     "text": [
      "2025-07-01 16:31:10,095 - INFO -   - Не найдено соответствий: 436\n"
     ]
    },
    {
     "name": "stderr",
     "output_type": "stream",
     "text": [
      "2025-07-01 16:31:10,095 - INFO -   - Очищено дистанционных: 2283\n"
     ]
    },
    {
     "name": "stderr",
     "output_type": "stream",
     "text": [
      "2025-07-01 16:31:10,147 - INFO - Результаты сохранены в 3.new_code.csv\n"
     ]
    }
   ],
   "source": [
    "import pandas as pd\n",
    "from fuzzywuzzy import process, fuzz\n",
    "from typing import Dict, Optional, Tuple\n",
    "import logging\n",
    "\n",
    "# Настройка логирования\n",
    "logging.basicConfig(level=logging.INFO, format='%(asctime)s - %(levelname)s - %(message)s')\n",
    "logger = logging.getLogger(__name__)\n",
    "\n",
    "class EventCodeMatcher:\n",
    "    \"\"\"Класс для сопоставления мероприятий с их кодами\"\"\"\n",
    "    \n",
    "    def __init__(self, reference_df: pd.DataFrame, threshold: int = 70):\n",
    "        self.threshold = threshold\n",
    "        self.kod_mapping = self._build_mapping(reference_df)\n",
    "        self.reference_names = list(self.kod_mapping.keys())\n",
    "        self.match_cache = {}\n",
    "        \n",
    "    def _build_mapping(self, df: pd.DataFrame) -> Dict[str, str]:\n",
    "        \"\"\"Создает словарь соответствий: нормализованное название -> код\"\"\"\n",
    "        mapping = {}\n",
    "        for _, row in df.iterrows():\n",
    "            normalized_name = self._normalize_text(row[\"Типовое мероприятие\"])\n",
    "            if normalized_name:\n",
    "                mapping[normalized_name] = row[\"Код\"]\n",
    "        return mapping\n",
    "    \n",
    "    @staticmethod\n",
    "    def _normalize_text(text) -> str:\n",
    "        \"\"\"Нормализация текста для сопоставления\"\"\"\n",
    "        if not isinstance(text, str):\n",
    "            return \"\"\n",
    "        return text.lower().strip()\n",
    "    \n",
    "    def _clean_event_name(self, name: str) -> str:\n",
    "        \"\"\"Очистка названия мероприятия от суффиксов занятий\"\"\"\n",
    "        normalized = self._normalize_text(name)\n",
    "        if \" - занятие \" in normalized:\n",
    "            return normalized.split(\" - занятие \")[0]\n",
    "        elif \" - занятие\" in normalized:\n",
    "            return normalized.split(\" - занятие\")[0]\n",
    "        return normalized\n",
    "    \n",
    "    def find_best_match(self, event_name: str) -> Optional[str]:\n",
    "        \"\"\"Находит наиболее подходящее соответствие для названия мероприятия\"\"\"\n",
    "        if event_name in self.match_cache:\n",
    "            return self.match_cache[event_name]\n",
    "        \n",
    "        cleaned_name = self._clean_event_name(event_name)\n",
    "        if not cleaned_name:\n",
    "            return None\n",
    "        \n",
    "        matches = process.extract(\n",
    "            cleaned_name,\n",
    "            self.reference_names,\n",
    "            scorer=fuzz.token_sort_ratio,\n",
    "            limit=1\n",
    "        )\n",
    "        \n",
    "        best_match = matches[0][0] if matches and matches[0][1] >= self.threshold else None\n",
    "        self.match_cache[event_name] = best_match\n",
    "        return best_match\n",
    "    \n",
    "    def get_code(self, match: str) -> str:\n",
    "        \"\"\"Получает код для найденного соответствия\"\"\"\n",
    "        return self.kod_mapping.get(match, \"\")\n",
    "\n",
    "def load_data(events_file: str, codes_file: str) -> Tuple[pd.DataFrame, pd.DataFrame]:\n",
    "    \"\"\"Загружает данные из файлов\"\"\"\n",
    "    try:\n",
    "        df_events = pd.read_csv(events_file, encoding='utf-8-sig', sep=';')\n",
    "        df_codes = pd.read_excel(codes_file)\n",
    "        \n",
    "        logger.info(f\"Загружено {len(df_events)} мероприятий и {len(df_codes)} кодов\")\n",
    "        return df_events, df_codes\n",
    "    \n",
    "    except Exception as e:\n",
    "        logger.error(f\"Ошибка при загрузке данных: {e}\")\n",
    "        raise\n",
    "\n",
    "def update_event_codes(df_events: pd.DataFrame, matcher: EventCodeMatcher) -> Dict[str, int]:\n",
    "    \"\"\"Обновляет коды типовых мероприятий в DataFrame\"\"\"\n",
    "    stats = {\"matched\": 0, \"unmatched\": 0, \"cleared\": 0}\n",
    "    \n",
    "    # Используем vectorized операции где возможно\n",
    "    distance_mask = df_events[\"Тип мероприятия\"] == \"Дистанционное мероприятие\"\n",
    "    program_mask = df_events[\"Тип мероприятия\"] == \"Программа мероприятий\"\n",
    "    \n",
    "    # Очищаем коды для дистанционных мероприятий\n",
    "    df_events.loc[distance_mask, \"Код типового мероприятия\"] = \"\"\n",
    "    stats[\"cleared\"] = distance_mask.sum()\n",
    "    \n",
    "    # Обновляем коды для программ мероприятий\n",
    "    program_events = df_events[program_mask]\n",
    "    \n",
    "    for idx in program_events.index:\n",
    "        event_name = df_events.at[idx, \"Название мероприятия\"]\n",
    "        best_match = matcher.find_best_match(event_name)\n",
    "        \n",
    "        if best_match:\n",
    "            df_events.at[idx, \"Код типового мероприятия\"] = matcher.get_code(best_match)\n",
    "            stats[\"matched\"] += 1\n",
    "        else:\n",
    "            df_events.at[idx, \"Код типового мероприятия\"] = \"\"\n",
    "            stats[\"unmatched\"] += 1\n",
    "    \n",
    "    return stats\n",
    "\n",
    "def save_results(df: pd.DataFrame, output_file: str) -> None:\n",
    "    \"\"\"Сохраняет результаты в файл\"\"\"\n",
    "    try:\n",
    "        df.to_csv(output_file, index=False, encoding='utf-8-sig', sep=';')\n",
    "        logger.info(f\"Результаты сохранены в {output_file}\")\n",
    "    except Exception as e:\n",
    "        logger.error(f\"Ошибка при сохранении: {e}\")\n",
    "        raise\n",
    "\n",
    "def main():\n",
    "    \"\"\"Основная функция\"\"\"\n",
    "    # Конфигурация\n",
    "    EVENTS_FILE = \"1.reordered_file.csv\"\n",
    "    CODES_FILE = \"kod_tipovogo.xlsx\"\n",
    "    OUTPUT_FILE = \"3.new_code.csv\"\n",
    "    THRESHOLD = 70\n",
    "    \n",
    "    try:\n",
    "        # Загрузка данных\n",
    "        df_events, df_codes = load_data(EVENTS_FILE, CODES_FILE)\n",
    "        \n",
    "        # Создание сопоставителя\n",
    "        matcher = EventCodeMatcher(df_codes, threshold=THRESHOLD)\n",
    "        \n",
    "        # Обновление кодов\n",
    "        stats = update_event_codes(df_events, matcher)\n",
    "        \n",
    "        # Вывод статистики\n",
    "        logger.info(f\"Статистика обработки:\")\n",
    "        logger.info(f\"  - Сопоставлено: {stats['matched']}\")\n",
    "        logger.info(f\"  - Не найдено соответствий: {stats['unmatched']}\")\n",
    "        logger.info(f\"  - Очищено дистанционных: {stats['cleared']}\")\n",
    "        \n",
    "        # Сохранение результатов\n",
    "        save_results(df_events, OUTPUT_FILE)\n",
    "        \n",
    "    except Exception as e:\n",
    "        logger.error(f\"Критическая ошибка: {e}\")\n",
    "        raise\n",
    "\n",
    "if __name__ == \"__main__\":\n",
    "    main()"
   ]
  },
  {
   "cell_type": "code",
   "execution_count": null,
   "id": "8eaf8c01-0622-4422-82e9-878b200dfd86",
   "metadata": {},
   "outputs": [],
   "source": []
  }
 ],
 "metadata": {
  "kernelspec": {
   "display_name": "Python 3",
   "language": "python",
   "name": "python3"
  },
  "language_info": {
   "codemirror_mode": {
    "name": "ipython",
    "version": 3
   },
   "file_extension": ".py",
   "mimetype": "text/x-python",
   "name": "python",
   "nbconvert_exporter": "python",
   "pygments_lexer": "ipython3",
   "version": "3.13.3"
  }
 },
 "nbformat": 4,
 "nbformat_minor": 5
}
